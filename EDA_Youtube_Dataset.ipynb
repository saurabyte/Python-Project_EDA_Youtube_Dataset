{
 "cells": [
  {
   "cell_type": "markdown",
   "id": "aa4f441f",
   "metadata": {},
   "source": [
    "### 1. Import required libraries and read the provided dataset (youtube_dislike_dataset.csv) and retrieve top 5 and bottom 5 records."
   ]
  },
  {
   "cell_type": "code",
   "execution_count": 23,
   "id": "ec5cc969",
   "metadata": {},
   "outputs": [],
   "source": [
    "# Lets import all the libraries\n",
    "\n",
    "import numpy as np\n",
    "import pandas as pd\n",
    "import matplotlib.pyplot as plt\n",
    "import seaborn as sns\n",
    "import warnings\n",
    "warnings.filterwarnings(\"ignore\")"
   ]
  },
  {
   "cell_type": "code",
   "execution_count": 24,
   "id": "fcaac220",
   "metadata": {},
   "outputs": [],
   "source": [
    "# Lets read the provided dataset\n",
    "youtube_data = pd.read_csv(\"youtube_dislike_dataset.csv\")"
   ]
  },
  {
   "cell_type": "code",
   "execution_count": 25,
   "id": "70725c31",
   "metadata": {},
   "outputs": [
    {
     "data": {
      "text/html": [
       "<div>\n",
       "<style scoped>\n",
       "    .dataframe tbody tr th:only-of-type {\n",
       "        vertical-align: middle;\n",
       "    }\n",
       "\n",
       "    .dataframe tbody tr th {\n",
       "        vertical-align: top;\n",
       "    }\n",
       "\n",
       "    .dataframe thead th {\n",
       "        text-align: right;\n",
       "    }\n",
       "</style>\n",
       "<table border=\"1\" class=\"dataframe\">\n",
       "  <thead>\n",
       "    <tr style=\"text-align: right;\">\n",
       "      <th></th>\n",
       "      <th>video_id</th>\n",
       "      <th>title</th>\n",
       "      <th>channel_id</th>\n",
       "      <th>channel_title</th>\n",
       "      <th>published_at</th>\n",
       "      <th>view_count</th>\n",
       "      <th>likes</th>\n",
       "      <th>dislikes</th>\n",
       "      <th>comment_count</th>\n",
       "      <th>tags</th>\n",
       "      <th>description</th>\n",
       "      <th>comments</th>\n",
       "    </tr>\n",
       "  </thead>\n",
       "  <tbody>\n",
       "    <tr>\n",
       "      <th>0</th>\n",
       "      <td>--0bCF-iK2E</td>\n",
       "      <td>Jadon Sancho  Magical Skills &amp; Goals</td>\n",
       "      <td>UC6UL29enLNe4mqwTfAyeNuw</td>\n",
       "      <td>Bundesliga</td>\n",
       "      <td>2021-07-01 10:00:00</td>\n",
       "      <td>1048888</td>\n",
       "      <td>19515</td>\n",
       "      <td>226</td>\n",
       "      <td>1319</td>\n",
       "      <td>football soccer ftbol alemn Bundesliga season ...</td>\n",
       "      <td>Enjoy the best skills and goals from Jadon San...</td>\n",
       "      <td>Respect to Dortmund fans,must be sad losing hi...</td>\n",
       "    </tr>\n",
       "    <tr>\n",
       "      <th>1</th>\n",
       "      <td>--14w5SOEUs</td>\n",
       "      <td>Migos - Avalanche (Official Video)</td>\n",
       "      <td>UCGIelM2Dj3zza3xyV3pL3WQ</td>\n",
       "      <td>MigosVEVO</td>\n",
       "      <td>2021-06-10 16:00:00</td>\n",
       "      <td>15352638</td>\n",
       "      <td>359277</td>\n",
       "      <td>7479</td>\n",
       "      <td>18729</td>\n",
       "      <td>Migos Avalanche Quality Control Music/Motown R...</td>\n",
       "      <td>Watch the the official video for Migos - \"Aval...</td>\n",
       "      <td>Migos just makes me want to live my live to th...</td>\n",
       "    </tr>\n",
       "    <tr>\n",
       "      <th>2</th>\n",
       "      <td>--40TEbZ9Is</td>\n",
       "      <td>Supporting Actress in a Comedy: 73rd Emmys</td>\n",
       "      <td>UClBKH8yZRcM4AsRjDVEdjMg</td>\n",
       "      <td>Television Academy</td>\n",
       "      <td>2021-09-20 01:03:32</td>\n",
       "      <td>925281</td>\n",
       "      <td>11212</td>\n",
       "      <td>401</td>\n",
       "      <td>831</td>\n",
       "      <td></td>\n",
       "      <td>Hannah Waddingham wins the Emmy for Supporting...</td>\n",
       "      <td>Hannah's energy bursts through any screen. Wel...</td>\n",
       "    </tr>\n",
       "    <tr>\n",
       "      <th>3</th>\n",
       "      <td>--4tfbSyYDE</td>\n",
       "      <td>JO1'YOUNG (JO1 ver.)' PERFORMANCE VIDEO</td>\n",
       "      <td>UCsmXiDP8S40uBeJYxvyulmA</td>\n",
       "      <td>JO1</td>\n",
       "      <td>2021-03-03 10:00:17</td>\n",
       "      <td>2641597</td>\n",
       "      <td>39131</td>\n",
       "      <td>441</td>\n",
       "      <td>3745</td>\n",
       "      <td>PRODUCE101JAPAN              JO1   TheSTAR STA...</td>\n",
       "      <td>JO1'YOUNG (JO1 ver.)' PERFORMANCE VIDEO\\n\\n---...</td>\n",
       "      <td>youngVer&gt;&lt;  REN is really PERFECT. It's not ju...</td>\n",
       "    </tr>\n",
       "    <tr>\n",
       "      <th>4</th>\n",
       "      <td>--DKkzWVh-E</td>\n",
       "      <td>Why Retaining Walls Collapse</td>\n",
       "      <td>UCMOqf8ab-42UUQIdVoKwjlQ</td>\n",
       "      <td>Practical Engineering</td>\n",
       "      <td>2021-12-07 13:00:00</td>\n",
       "      <td>715724</td>\n",
       "      <td>32887</td>\n",
       "      <td>367</td>\n",
       "      <td>1067</td>\n",
       "      <td>retaining wall New Jersey highway Direct Conne...</td>\n",
       "      <td>One of the most important (and innocuous) part...</td>\n",
       "      <td>Keep up with all my projects here: https://pr...</td>\n",
       "    </tr>\n",
       "  </tbody>\n",
       "</table>\n",
       "</div>"
      ],
      "text/plain": [
       "      video_id                                       title  \\\n",
       "0  --0bCF-iK2E        Jadon Sancho  Magical Skills & Goals   \n",
       "1  --14w5SOEUs          Migos - Avalanche (Official Video)   \n",
       "2  --40TEbZ9Is  Supporting Actress in a Comedy: 73rd Emmys   \n",
       "3  --4tfbSyYDE     JO1'YOUNG (JO1 ver.)' PERFORMANCE VIDEO   \n",
       "4  --DKkzWVh-E                Why Retaining Walls Collapse   \n",
       "\n",
       "                 channel_id          channel_title         published_at  \\\n",
       "0  UC6UL29enLNe4mqwTfAyeNuw             Bundesliga  2021-07-01 10:00:00   \n",
       "1  UCGIelM2Dj3zza3xyV3pL3WQ              MigosVEVO  2021-06-10 16:00:00   \n",
       "2  UClBKH8yZRcM4AsRjDVEdjMg     Television Academy  2021-09-20 01:03:32   \n",
       "3  UCsmXiDP8S40uBeJYxvyulmA                    JO1  2021-03-03 10:00:17   \n",
       "4  UCMOqf8ab-42UUQIdVoKwjlQ  Practical Engineering  2021-12-07 13:00:00   \n",
       "\n",
       "   view_count   likes  dislikes  comment_count  \\\n",
       "0     1048888   19515       226           1319   \n",
       "1    15352638  359277      7479          18729   \n",
       "2      925281   11212       401            831   \n",
       "3     2641597   39131       441           3745   \n",
       "4      715724   32887       367           1067   \n",
       "\n",
       "                                                tags  \\\n",
       "0  football soccer ftbol alemn Bundesliga season ...   \n",
       "1  Migos Avalanche Quality Control Music/Motown R...   \n",
       "2                                                      \n",
       "3  PRODUCE101JAPAN              JO1   TheSTAR STA...   \n",
       "4  retaining wall New Jersey highway Direct Conne...   \n",
       "\n",
       "                                         description  \\\n",
       "0  Enjoy the best skills and goals from Jadon San...   \n",
       "1  Watch the the official video for Migos - \"Aval...   \n",
       "2  Hannah Waddingham wins the Emmy for Supporting...   \n",
       "3  JO1'YOUNG (JO1 ver.)' PERFORMANCE VIDEO\\n\\n---...   \n",
       "4  One of the most important (and innocuous) part...   \n",
       "\n",
       "                                            comments  \n",
       "0  Respect to Dortmund fans,must be sad losing hi...  \n",
       "1  Migos just makes me want to live my live to th...  \n",
       "2  Hannah's energy bursts through any screen. Wel...  \n",
       "3  youngVer><  REN is really PERFECT. It's not ju...  \n",
       "4   Keep up with all my projects here: https://pr...  "
      ]
     },
     "execution_count": 25,
     "metadata": {},
     "output_type": "execute_result"
    }
   ],
   "source": [
    "# we can see the top 5 records\n",
    "youtube_data.head()"
   ]
  },
  {
   "cell_type": "code",
   "execution_count": 26,
   "id": "4251d8a1",
   "metadata": {},
   "outputs": [
    {
     "data": {
      "text/html": [
       "<div>\n",
       "<style scoped>\n",
       "    .dataframe tbody tr th:only-of-type {\n",
       "        vertical-align: middle;\n",
       "    }\n",
       "\n",
       "    .dataframe tbody tr th {\n",
       "        vertical-align: top;\n",
       "    }\n",
       "\n",
       "    .dataframe thead th {\n",
       "        text-align: right;\n",
       "    }\n",
       "</style>\n",
       "<table border=\"1\" class=\"dataframe\">\n",
       "  <thead>\n",
       "    <tr style=\"text-align: right;\">\n",
       "      <th></th>\n",
       "      <th>video_id</th>\n",
       "      <th>title</th>\n",
       "      <th>channel_id</th>\n",
       "      <th>channel_title</th>\n",
       "      <th>published_at</th>\n",
       "      <th>view_count</th>\n",
       "      <th>likes</th>\n",
       "      <th>dislikes</th>\n",
       "      <th>comment_count</th>\n",
       "      <th>tags</th>\n",
       "      <th>description</th>\n",
       "      <th>comments</th>\n",
       "    </tr>\n",
       "  </thead>\n",
       "  <tbody>\n",
       "    <tr>\n",
       "      <th>37417</th>\n",
       "      <td>zzd4ydafGR0</td>\n",
       "      <td>Lil Tjay - Calling My Phone (feat. 6LACK) [Off...</td>\n",
       "      <td>UCEB4a5o_6KfjxHwNMnmj54Q</td>\n",
       "      <td>Lil Tjay</td>\n",
       "      <td>2021-02-12 05:03:49</td>\n",
       "      <td>120408275</td>\n",
       "      <td>2180780</td>\n",
       "      <td>35871</td>\n",
       "      <td>81360</td>\n",
       "      <td>Lil Tjay Steady Calling My Phone Calling My Ph...</td>\n",
       "      <td>Official video for \"Calling My Phone\" by Lil T...</td>\n",
       "      <td>'DESTINED 2 WIN' OUT NOW !! https://liltjay.ln...</td>\n",
       "    </tr>\n",
       "    <tr>\n",
       "      <th>37418</th>\n",
       "      <td>zziBybeSAtw</td>\n",
       "      <td>PELICANS at LAKERS | FULL GAME HIGHLIGHTS | Ja...</td>\n",
       "      <td>UCWJ2lWNubArHWmf3FIHbfcQ</td>\n",
       "      <td>NBA</td>\n",
       "      <td>2021-01-16 05:39:05</td>\n",
       "      <td>2841917</td>\n",
       "      <td>20759</td>\n",
       "      <td>1049</td>\n",
       "      <td>2624</td>\n",
       "      <td>NBA G League Basketball game-0022000187 Lakers...</td>\n",
       "      <td>PELICANS at LAKERS | FULL GAME HIGHLIGHTS | Ja...</td>\n",
       "      <td>Montrezl Harrell is going crazy with the rebou...</td>\n",
       "    </tr>\n",
       "    <tr>\n",
       "      <th>37419</th>\n",
       "      <td>zzk09ESX7e0</td>\n",
       "      <td>[MV]  (MAMAMOO) - Where Are We Now</td>\n",
       "      <td>UCuhAUMLzJxlP1W7mEk0_6lA</td>\n",
       "      <td>MAMAMOO</td>\n",
       "      <td>2021-06-02 09:00:10</td>\n",
       "      <td>13346678</td>\n",
       "      <td>720854</td>\n",
       "      <td>4426</td>\n",
       "      <td>90616</td>\n",
       "      <td>MAMAMOO  WAW  WAW MAMAMOO WAW Where Are We Now...</td>\n",
       "      <td>[MV]  (MAMAMOO) - Where Are We Now\\n\\nInstagra...</td>\n",
       "      <td>I honestly do not know why this song hit so ha...</td>\n",
       "    </tr>\n",
       "    <tr>\n",
       "      <th>37420</th>\n",
       "      <td>zzmQEb0Em5I</td>\n",
       "      <td>FELLIPE ESCUDERO- Master Podcast  #12</td>\n",
       "      <td>UC8NjnNWMsRqq11NYvHAQb1g</td>\n",
       "      <td>Master Podcast</td>\n",
       "      <td>2020-10-20 20:59:30</td>\n",
       "      <td>252057</td>\n",
       "      <td>19198</td>\n",
       "      <td>1234</td>\n",
       "      <td>1471</td>\n",
       "      <td>master masterpodcast lord lord vinheteiro z z ...</td>\n",
       "      <td>DOCTOR HAIR\\nhttps://www.thedoctorhair.com/?fb...</td>\n",
       "      <td>Foi um prazer passar esta tarde com vocs debat...</td>\n",
       "    </tr>\n",
       "    <tr>\n",
       "      <th>37421</th>\n",
       "      <td>zzxPZwaA-8w</td>\n",
       "      <td>Gareth Bale brace secures dramatic comeback on...</td>\n",
       "      <td>UCEg25rdRZXg32iwai6N6l0w</td>\n",
       "      <td>Tottenham Hotspur</td>\n",
       "      <td>2021-05-23 21:00:31</td>\n",
       "      <td>2252090</td>\n",
       "      <td>34063</td>\n",
       "      <td>868</td>\n",
       "      <td>2004</td>\n",
       "      <td>Spurs Tottenham Hotspur   Tottenham Leicester ...</td>\n",
       "      <td>Two minute highlights from Tottenham Hotspur's...</td>\n",
       "      <td>Thank you Kane for everything you have given t...</td>\n",
       "    </tr>\n",
       "  </tbody>\n",
       "</table>\n",
       "</div>"
      ],
      "text/plain": [
       "          video_id                                              title  \\\n",
       "37417  zzd4ydafGR0  Lil Tjay - Calling My Phone (feat. 6LACK) [Off...   \n",
       "37418  zziBybeSAtw  PELICANS at LAKERS | FULL GAME HIGHLIGHTS | Ja...   \n",
       "37419  zzk09ESX7e0                 [MV]  (MAMAMOO) - Where Are We Now   \n",
       "37420  zzmQEb0Em5I              FELLIPE ESCUDERO- Master Podcast  #12   \n",
       "37421  zzxPZwaA-8w  Gareth Bale brace secures dramatic comeback on...   \n",
       "\n",
       "                     channel_id      channel_title         published_at  \\\n",
       "37417  UCEB4a5o_6KfjxHwNMnmj54Q           Lil Tjay  2021-02-12 05:03:49   \n",
       "37418  UCWJ2lWNubArHWmf3FIHbfcQ                NBA  2021-01-16 05:39:05   \n",
       "37419  UCuhAUMLzJxlP1W7mEk0_6lA            MAMAMOO  2021-06-02 09:00:10   \n",
       "37420  UC8NjnNWMsRqq11NYvHAQb1g     Master Podcast  2020-10-20 20:59:30   \n",
       "37421  UCEg25rdRZXg32iwai6N6l0w  Tottenham Hotspur  2021-05-23 21:00:31   \n",
       "\n",
       "       view_count    likes  dislikes  comment_count  \\\n",
       "37417   120408275  2180780     35871          81360   \n",
       "37418     2841917    20759      1049           2624   \n",
       "37419    13346678   720854      4426          90616   \n",
       "37420      252057    19198      1234           1471   \n",
       "37421     2252090    34063       868           2004   \n",
       "\n",
       "                                                    tags  \\\n",
       "37417  Lil Tjay Steady Calling My Phone Calling My Ph...   \n",
       "37418  NBA G League Basketball game-0022000187 Lakers...   \n",
       "37419  MAMAMOO  WAW  WAW MAMAMOO WAW Where Are We Now...   \n",
       "37420  master masterpodcast lord lord vinheteiro z z ...   \n",
       "37421  Spurs Tottenham Hotspur   Tottenham Leicester ...   \n",
       "\n",
       "                                             description  \\\n",
       "37417  Official video for \"Calling My Phone\" by Lil T...   \n",
       "37418  PELICANS at LAKERS | FULL GAME HIGHLIGHTS | Ja...   \n",
       "37419  [MV]  (MAMAMOO) - Where Are We Now\\n\\nInstagra...   \n",
       "37420  DOCTOR HAIR\\nhttps://www.thedoctorhair.com/?fb...   \n",
       "37421  Two minute highlights from Tottenham Hotspur's...   \n",
       "\n",
       "                                                comments  \n",
       "37417  'DESTINED 2 WIN' OUT NOW !! https://liltjay.ln...  \n",
       "37418  Montrezl Harrell is going crazy with the rebou...  \n",
       "37419  I honestly do not know why this song hit so ha...  \n",
       "37420  Foi um prazer passar esta tarde com vocs debat...  \n",
       "37421  Thank you Kane for everything you have given t...  "
      ]
     },
     "execution_count": 26,
     "metadata": {},
     "output_type": "execute_result"
    }
   ],
   "source": [
    "# Here we can see the bottom 5 records\n",
    "youtube_data.tail()"
   ]
  },
  {
   "cell_type": "markdown",
   "id": "b22f9bbd",
   "metadata": {},
   "source": [
    "### 2. Check the info of the dataframe and write your inferences on data types and shape of the dataset."
   ]
  },
  {
   "cell_type": "code",
   "execution_count": 27,
   "id": "7782c3ca",
   "metadata": {},
   "outputs": [
    {
     "data": {
      "text/plain": [
       "(37422, 12)"
      ]
     },
     "execution_count": 27,
     "metadata": {},
     "output_type": "execute_result"
    }
   ],
   "source": [
    "# used to retrieve the dimensions or shape of the data\n",
    "youtube_data.shape"
   ]
  },
  {
   "cell_type": "code",
   "execution_count": 28,
   "id": "840af8fc",
   "metadata": {},
   "outputs": [
    {
     "name": "stdout",
     "output_type": "stream",
     "text": [
      "<class 'pandas.core.frame.DataFrame'>\n",
      "RangeIndex: 37422 entries, 0 to 37421\n",
      "Data columns (total 12 columns):\n",
      " #   Column         Non-Null Count  Dtype \n",
      "---  ------         --------------  ----- \n",
      " 0   video_id       37422 non-null  object\n",
      " 1   title          37422 non-null  object\n",
      " 2   channel_id     37422 non-null  object\n",
      " 3   channel_title  37422 non-null  object\n",
      " 4   published_at   37422 non-null  object\n",
      " 5   view_count     37422 non-null  int64 \n",
      " 6   likes          37422 non-null  int64 \n",
      " 7   dislikes       37422 non-null  int64 \n",
      " 8   comment_count  37422 non-null  int64 \n",
      " 9   tags           37422 non-null  object\n",
      " 10  description    37422 non-null  object\n",
      " 11  comments       37264 non-null  object\n",
      "dtypes: int64(4), object(8)\n",
      "memory usage: 3.4+ MB\n"
     ]
    }
   ],
   "source": [
    "# Displays a concise summary of dataframe\n",
    "youtube_data.info()"
   ]
  },
  {
   "cell_type": "markdown",
   "id": "0b0de6b8",
   "metadata": {},
   "source": [
    "From the above information we can infer that, there are total 37422 entries we can see that there are maximum not null values in\n",
    "each coloumn. There are 4 int64 and 8 object Datatype.\n"
   ]
  },
  {
   "cell_type": "markdown",
   "id": "6820886d",
   "metadata": {},
   "source": [
    "### 3. Check for the Percentage of the missing values and drop or impute them."
   ]
  },
  {
   "cell_type": "code",
   "execution_count": 29,
   "id": "2d24be93",
   "metadata": {},
   "outputs": [
    {
     "data": {
      "text/plain": [
       "video_id           0\n",
       "title              0\n",
       "channel_id         0\n",
       "channel_title      0\n",
       "published_at       0\n",
       "view_count         0\n",
       "likes              0\n",
       "dislikes           0\n",
       "comment_count      0\n",
       "tags               0\n",
       "description        0\n",
       "comments         158\n",
       "dtype: int64"
      ]
     },
     "execution_count": 29,
     "metadata": {},
     "output_type": "execute_result"
    }
   ],
   "source": [
    "#This code will give us the total number of null values in each column of the dataset\n",
    "youtube_data.isnull().sum()"
   ]
  },
  {
   "cell_type": "code",
   "execution_count": 30,
   "id": "85d2f7ae",
   "metadata": {},
   "outputs": [
    {
     "data": {
      "text/plain": [
       "video_id         0.00\n",
       "title            0.00\n",
       "channel_id       0.00\n",
       "channel_title    0.00\n",
       "published_at     0.00\n",
       "view_count       0.00\n",
       "likes            0.00\n",
       "dislikes         0.00\n",
       "comment_count    0.00\n",
       "tags             0.00\n",
       "description      0.00\n",
       "comments         0.42\n",
       "dtype: float64"
      ]
     },
     "execution_count": 30,
     "metadata": {},
     "output_type": "execute_result"
    }
   ],
   "source": [
    "#This code will give us the percentage of null values in each column, rounded up to two decimal places\n",
    "round(100*(youtube_data.isnull().sum()/len(youtube_data.index)), 2)"
   ]
  },
  {
   "cell_type": "code",
   "execution_count": 31,
   "id": "7a6d88ef",
   "metadata": {},
   "outputs": [
    {
     "data": {
      "text/plain": [
       "158"
      ]
     },
     "execution_count": 31,
     "metadata": {},
     "output_type": "execute_result"
    }
   ],
   "source": [
    "youtube_data['comments'].isnull().sum()"
   ]
  },
  {
   "cell_type": "code",
   "execution_count": 32,
   "id": "e4d63a09",
   "metadata": {},
   "outputs": [],
   "source": [
    "# Dropna the rows with missing values\n",
    "youtube_data.dropna(inplace=True)"
   ]
  },
  {
   "cell_type": "code",
   "execution_count": 33,
   "id": "128b40a7",
   "metadata": {},
   "outputs": [
    {
     "data": {
      "text/plain": [
       "0"
      ]
     },
     "execution_count": 33,
     "metadata": {},
     "output_type": "execute_result"
    }
   ],
   "source": [
    "youtube_data['comments'].isnull().sum()"
   ]
  },
  {
   "cell_type": "code",
   "execution_count": 34,
   "id": "37a8d8fe",
   "metadata": {},
   "outputs": [
    {
     "data": {
      "text/plain": [
       "video_id         0\n",
       "title            0\n",
       "channel_id       0\n",
       "channel_title    0\n",
       "published_at     0\n",
       "view_count       0\n",
       "likes            0\n",
       "dislikes         0\n",
       "comment_count    0\n",
       "tags             0\n",
       "description      0\n",
       "comments         0\n",
       "dtype: int64"
      ]
     },
     "execution_count": 34,
     "metadata": {},
     "output_type": "execute_result"
    }
   ],
   "source": [
    "youtube_data.isnull().sum()"
   ]
  },
  {
   "cell_type": "markdown",
   "id": "49d4ee99",
   "metadata": {},
   "source": [
    "### 4. Check the statistical summary of both numerical and categorical columns and write your inferences."
   ]
  },
  {
   "cell_type": "code",
   "execution_count": 35,
   "id": "281ccc32",
   "metadata": {},
   "outputs": [],
   "source": [
    "# Checking the numerical summary of dataset\n",
    "numerical_summary=youtube_data.describe()"
   ]
  },
  {
   "cell_type": "code",
   "execution_count": 36,
   "id": "418d1e6c",
   "metadata": {},
   "outputs": [
    {
     "data": {
      "text/html": [
       "<div>\n",
       "<style scoped>\n",
       "    .dataframe tbody tr th:only-of-type {\n",
       "        vertical-align: middle;\n",
       "    }\n",
       "\n",
       "    .dataframe tbody tr th {\n",
       "        vertical-align: top;\n",
       "    }\n",
       "\n",
       "    .dataframe thead th {\n",
       "        text-align: right;\n",
       "    }\n",
       "</style>\n",
       "<table border=\"1\" class=\"dataframe\">\n",
       "  <thead>\n",
       "    <tr style=\"text-align: right;\">\n",
       "      <th></th>\n",
       "      <th>view_count</th>\n",
       "      <th>likes</th>\n",
       "      <th>dislikes</th>\n",
       "      <th>comment_count</th>\n",
       "    </tr>\n",
       "  </thead>\n",
       "  <tbody>\n",
       "    <tr>\n",
       "      <th>count</th>\n",
       "      <td>3.726400e+04</td>\n",
       "      <td>3.726400e+04</td>\n",
       "      <td>3.726400e+04</td>\n",
       "      <td>3.726400e+04</td>\n",
       "    </tr>\n",
       "    <tr>\n",
       "      <th>mean</th>\n",
       "      <td>5.710821e+06</td>\n",
       "      <td>1.672867e+05</td>\n",
       "      <td>4.996434e+03</td>\n",
       "      <td>9.966953e+03</td>\n",
       "    </tr>\n",
       "    <tr>\n",
       "      <th>std</th>\n",
       "      <td>2.431304e+07</td>\n",
       "      <td>5.384931e+05</td>\n",
       "      <td>3.075194e+04</td>\n",
       "      <td>1.173465e+05</td>\n",
       "    </tr>\n",
       "    <tr>\n",
       "      <th>min</th>\n",
       "      <td>2.036800e+04</td>\n",
       "      <td>2.200000e+01</td>\n",
       "      <td>3.000000e+00</td>\n",
       "      <td>1.000000e+00</td>\n",
       "    </tr>\n",
       "    <tr>\n",
       "      <th>25%</th>\n",
       "      <td>5.141305e+05</td>\n",
       "      <td>1.331725e+04</td>\n",
       "      <td>2.827500e+02</td>\n",
       "      <td>9.140000e+02</td>\n",
       "    </tr>\n",
       "    <tr>\n",
       "      <th>50%</th>\n",
       "      <td>1.321860e+06</td>\n",
       "      <td>4.255600e+04</td>\n",
       "      <td>7.980000e+02</td>\n",
       "      <td>2.347000e+03</td>\n",
       "    </tr>\n",
       "    <tr>\n",
       "      <th>75%</th>\n",
       "      <td>3.674527e+06</td>\n",
       "      <td>1.309665e+05</td>\n",
       "      <td>2.466250e+03</td>\n",
       "      <td>6.212000e+03</td>\n",
       "    </tr>\n",
       "    <tr>\n",
       "      <th>max</th>\n",
       "      <td>1.322797e+09</td>\n",
       "      <td>3.183768e+07</td>\n",
       "      <td>2.397733e+06</td>\n",
       "      <td>1.607103e+07</td>\n",
       "    </tr>\n",
       "  </tbody>\n",
       "</table>\n",
       "</div>"
      ],
      "text/plain": [
       "         view_count         likes      dislikes  comment_count\n",
       "count  3.726400e+04  3.726400e+04  3.726400e+04   3.726400e+04\n",
       "mean   5.710821e+06  1.672867e+05  4.996434e+03   9.966953e+03\n",
       "std    2.431304e+07  5.384931e+05  3.075194e+04   1.173465e+05\n",
       "min    2.036800e+04  2.200000e+01  3.000000e+00   1.000000e+00\n",
       "25%    5.141305e+05  1.331725e+04  2.827500e+02   9.140000e+02\n",
       "50%    1.321860e+06  4.255600e+04  7.980000e+02   2.347000e+03\n",
       "75%    3.674527e+06  1.309665e+05  2.466250e+03   6.212000e+03\n",
       "max    1.322797e+09  3.183768e+07  2.397733e+06   1.607103e+07"
      ]
     },
     "execution_count": 36,
     "metadata": {},
     "output_type": "execute_result"
    }
   ],
   "source": [
    "numerical_summary"
   ]
  },
  {
   "cell_type": "code",
   "execution_count": 37,
   "id": "88fb0267",
   "metadata": {},
   "outputs": [
    {
     "data": {
      "text/html": [
       "<div>\n",
       "<style scoped>\n",
       "    .dataframe tbody tr th:only-of-type {\n",
       "        vertical-align: middle;\n",
       "    }\n",
       "\n",
       "    .dataframe tbody tr th {\n",
       "        vertical-align: top;\n",
       "    }\n",
       "\n",
       "    .dataframe thead th {\n",
       "        text-align: right;\n",
       "    }\n",
       "</style>\n",
       "<table border=\"1\" class=\"dataframe\">\n",
       "  <thead>\n",
       "    <tr style=\"text-align: right;\">\n",
       "      <th></th>\n",
       "      <th>video_id</th>\n",
       "      <th>title</th>\n",
       "      <th>channel_id</th>\n",
       "      <th>channel_title</th>\n",
       "      <th>published_at</th>\n",
       "      <th>tags</th>\n",
       "      <th>description</th>\n",
       "      <th>comments</th>\n",
       "    </tr>\n",
       "  </thead>\n",
       "  <tbody>\n",
       "    <tr>\n",
       "      <th>count</th>\n",
       "      <td>37264</td>\n",
       "      <td>37264</td>\n",
       "      <td>37264</td>\n",
       "      <td>37264</td>\n",
       "      <td>37264</td>\n",
       "      <td>37264</td>\n",
       "      <td>37264</td>\n",
       "      <td>37264</td>\n",
       "    </tr>\n",
       "    <tr>\n",
       "      <th>unique</th>\n",
       "      <td>37264</td>\n",
       "      <td>36958</td>\n",
       "      <td>10891</td>\n",
       "      <td>10813</td>\n",
       "      <td>36617</td>\n",
       "      <td>28705</td>\n",
       "      <td>35479</td>\n",
       "      <td>37264</td>\n",
       "    </tr>\n",
       "    <tr>\n",
       "      <th>top</th>\n",
       "      <td>yMDoj8VVzh8</td>\n",
       "      <td>www</td>\n",
       "      <td>UCNAf1k0yIjyGu3k9BwAg3lg</td>\n",
       "      <td>Sky Sports Football</td>\n",
       "      <td>2020-10-16 04:00:10</td>\n",
       "      <td></td>\n",
       "      <td></td>\n",
       "      <td>Thanks to Techland for sponsoring! Pre-order D...</td>\n",
       "    </tr>\n",
       "    <tr>\n",
       "      <th>freq</th>\n",
       "      <td>1</td>\n",
       "      <td>21</td>\n",
       "      <td>533</td>\n",
       "      <td>533</td>\n",
       "      <td>6</td>\n",
       "      <td>3808</td>\n",
       "      <td>587</td>\n",
       "      <td>1</td>\n",
       "    </tr>\n",
       "  </tbody>\n",
       "</table>\n",
       "</div>"
      ],
      "text/plain": [
       "           video_id  title                channel_id        channel_title  \\\n",
       "count         37264  37264                     37264                37264   \n",
       "unique        37264  36958                     10891                10813   \n",
       "top     yMDoj8VVzh8    www  UCNAf1k0yIjyGu3k9BwAg3lg  Sky Sports Football   \n",
       "freq              1     21                       533                  533   \n",
       "\n",
       "               published_at   tags description  \\\n",
       "count                 37264  37264       37264   \n",
       "unique                36617  28705       35479   \n",
       "top     2020-10-16 04:00:10                      \n",
       "freq                      6   3808         587   \n",
       "\n",
       "                                                 comments  \n",
       "count                                               37264  \n",
       "unique                                              37264  \n",
       "top     Thanks to Techland for sponsoring! Pre-order D...  \n",
       "freq                                                    1  "
      ]
     },
     "execution_count": 37,
     "metadata": {},
     "output_type": "execute_result"
    }
   ],
   "source": [
    "# Checking the categorical summary of data set\n",
    "categorical_summary = youtube_data.describe(include=['object'])\n",
    "categorical_summary"
   ]
  },
  {
   "cell_type": "markdown",
   "id": "91e05574",
   "metadata": {},
   "source": [
    "### 5. Convert datatype of column published_at from object to pandas datetime. "
   ]
  },
  {
   "cell_type": "code",
   "execution_count": 39,
   "id": "3beab9a3",
   "metadata": {},
   "outputs": [],
   "source": [
    "# lets convert published_at from object to pandas datetime using pd.to_datetime\n",
    "youtube_data['published_at'] = pd.to_datetime(youtube_data['published_at'])"
   ]
  },
  {
   "cell_type": "code",
   "execution_count": 41,
   "id": "8135efe3",
   "metadata": {},
   "outputs": [
    {
     "name": "stdout",
     "output_type": "stream",
     "text": [
      "video_id                 object\n",
      "title                    object\n",
      "channel_id               object\n",
      "channel_title            object\n",
      "published_at     datetime64[ns]\n",
      "view_count                int64\n",
      "likes                     int64\n",
      "dislikes                  int64\n",
      "comment_count             int64\n",
      "tags                     object\n",
      "description              object\n",
      "comments                 object\n",
      "dtype: object\n"
     ]
    }
   ],
   "source": [
    "print(youtube_data.dtypes)"
   ]
  },
  {
   "cell_type": "markdown",
   "id": "ff011616",
   "metadata": {},
   "source": [
    "### 6. Create a new column as 'published_month' using the column published_at (display the months only) "
   ]
  },
  {
   "cell_type": "code",
   "execution_count": 42,
   "id": "86fa4f99",
   "metadata": {},
   "outputs": [],
   "source": [
    "'''\n",
    "In this code, the .dt.month attribute is used to extract the month component from the 'published_at' column.\n",
    "This value is then assigned to the 'published_month' column.\n",
    "\n",
    "'''\n",
    "youtube_data['published_month'] = youtube_data['published_at'].dt.month"
   ]
  },
  {
   "cell_type": "code",
   "execution_count": 43,
   "id": "be6e522b",
   "metadata": {},
   "outputs": [
    {
     "name": "stdout",
     "output_type": "stream",
     "text": [
      "      video_id                                       title  \\\n",
      "0  --0bCF-iK2E        Jadon Sancho  Magical Skills & Goals   \n",
      "1  --14w5SOEUs          Migos - Avalanche (Official Video)   \n",
      "2  --40TEbZ9Is  Supporting Actress in a Comedy: 73rd Emmys   \n",
      "3  --4tfbSyYDE     JO1'YOUNG (JO1 ver.)' PERFORMANCE VIDEO   \n",
      "4  --DKkzWVh-E                Why Retaining Walls Collapse   \n",
      "\n",
      "                 channel_id          channel_title        published_at  \\\n",
      "0  UC6UL29enLNe4mqwTfAyeNuw             Bundesliga 2021-07-01 10:00:00   \n",
      "1  UCGIelM2Dj3zza3xyV3pL3WQ              MigosVEVO 2021-06-10 16:00:00   \n",
      "2  UClBKH8yZRcM4AsRjDVEdjMg     Television Academy 2021-09-20 01:03:32   \n",
      "3  UCsmXiDP8S40uBeJYxvyulmA                    JO1 2021-03-03 10:00:17   \n",
      "4  UCMOqf8ab-42UUQIdVoKwjlQ  Practical Engineering 2021-12-07 13:00:00   \n",
      "\n",
      "   view_count   likes  dislikes  comment_count  \\\n",
      "0     1048888   19515       226           1319   \n",
      "1    15352638  359277      7479          18729   \n",
      "2      925281   11212       401            831   \n",
      "3     2641597   39131       441           3745   \n",
      "4      715724   32887       367           1067   \n",
      "\n",
      "                                                tags  \\\n",
      "0  football soccer ftbol alemn Bundesliga season ...   \n",
      "1  Migos Avalanche Quality Control Music/Motown R...   \n",
      "2                                                      \n",
      "3  PRODUCE101JAPAN              JO1   TheSTAR STA...   \n",
      "4  retaining wall New Jersey highway Direct Conne...   \n",
      "\n",
      "                                         description  \\\n",
      "0  Enjoy the best skills and goals from Jadon San...   \n",
      "1  Watch the the official video for Migos - \"Aval...   \n",
      "2  Hannah Waddingham wins the Emmy for Supporting...   \n",
      "3  JO1'YOUNG (JO1 ver.)' PERFORMANCE VIDEO\\n\\n---...   \n",
      "4  One of the most important (and innocuous) part...   \n",
      "\n",
      "                                            comments  published_month  \n",
      "0  Respect to Dortmund fans,must be sad losing hi...                7  \n",
      "1  Migos just makes me want to live my live to th...                6  \n",
      "2  Hannah's energy bursts through any screen. Wel...                9  \n",
      "3  youngVer><  REN is really PERFECT. It's not ju...                3  \n",
      "4   Keep up with all my projects here: https://pr...               12  \n"
     ]
    }
   ],
   "source": [
    "print(youtube_data.head())"
   ]
  },
  {
   "cell_type": "markdown",
   "id": "e2c899b4",
   "metadata": {},
   "source": [
    "### 7. Replace the numbers in the column published_month as names of the months i,e., 1 as 'Jan', 2 as 'Feb' and so on..... "
   ]
  },
  {
   "cell_type": "code",
   "execution_count": 44,
   "id": "4a0a401b",
   "metadata": {},
   "outputs": [],
   "source": [
    "# Map numeric values to month names using a dictionary\n",
    "month_mapping = {\n",
    "    1: 'Jan', 2: 'Feb', 3: 'Mar', 4: 'Apr',\n",
    "    5: 'May', 6: 'Jun', 7: 'Jul', 8: 'Aug',\n",
    "    9: 'Sep', 10: 'Oct', 11: 'Nov', 12: 'Dec'\n",
    "}"
   ]
  },
  {
   "cell_type": "code",
   "execution_count": 45,
   "id": "4ec9e898",
   "metadata": {},
   "outputs": [],
   "source": [
    "# Replace numeric values with month names using the mapping\n",
    "youtube_data['published_month'] = youtube_data['published_month'].replace(month_mapping)\n"
   ]
  },
  {
   "cell_type": "code",
   "execution_count": 46,
   "id": "d0849ce4",
   "metadata": {},
   "outputs": [
    {
     "name": "stdout",
     "output_type": "stream",
     "text": [
      "      video_id                                       title  \\\n",
      "0  --0bCF-iK2E        Jadon Sancho  Magical Skills & Goals   \n",
      "1  --14w5SOEUs          Migos - Avalanche (Official Video)   \n",
      "2  --40TEbZ9Is  Supporting Actress in a Comedy: 73rd Emmys   \n",
      "3  --4tfbSyYDE     JO1'YOUNG (JO1 ver.)' PERFORMANCE VIDEO   \n",
      "4  --DKkzWVh-E                Why Retaining Walls Collapse   \n",
      "\n",
      "                 channel_id          channel_title        published_at  \\\n",
      "0  UC6UL29enLNe4mqwTfAyeNuw             Bundesliga 2021-07-01 10:00:00   \n",
      "1  UCGIelM2Dj3zza3xyV3pL3WQ              MigosVEVO 2021-06-10 16:00:00   \n",
      "2  UClBKH8yZRcM4AsRjDVEdjMg     Television Academy 2021-09-20 01:03:32   \n",
      "3  UCsmXiDP8S40uBeJYxvyulmA                    JO1 2021-03-03 10:00:17   \n",
      "4  UCMOqf8ab-42UUQIdVoKwjlQ  Practical Engineering 2021-12-07 13:00:00   \n",
      "\n",
      "   view_count   likes  dislikes  comment_count  \\\n",
      "0     1048888   19515       226           1319   \n",
      "1    15352638  359277      7479          18729   \n",
      "2      925281   11212       401            831   \n",
      "3     2641597   39131       441           3745   \n",
      "4      715724   32887       367           1067   \n",
      "\n",
      "                                                tags  \\\n",
      "0  football soccer ftbol alemn Bundesliga season ...   \n",
      "1  Migos Avalanche Quality Control Music/Motown R...   \n",
      "2                                                      \n",
      "3  PRODUCE101JAPAN              JO1   TheSTAR STA...   \n",
      "4  retaining wall New Jersey highway Direct Conne...   \n",
      "\n",
      "                                         description  \\\n",
      "0  Enjoy the best skills and goals from Jadon San...   \n",
      "1  Watch the the official video for Migos - \"Aval...   \n",
      "2  Hannah Waddingham wins the Emmy for Supporting...   \n",
      "3  JO1'YOUNG (JO1 ver.)' PERFORMANCE VIDEO\\n\\n---...   \n",
      "4  One of the most important (and innocuous) part...   \n",
      "\n",
      "                                            comments published_month  \n",
      "0  Respect to Dortmund fans,must be sad losing hi...             Jul  \n",
      "1  Migos just makes me want to live my live to th...             Jun  \n",
      "2  Hannah's energy bursts through any screen. Wel...             Sep  \n",
      "3  youngVer><  REN is really PERFECT. It's not ju...             Mar  \n",
      "4   Keep up with all my projects here: https://pr...             Dec  \n"
     ]
    }
   ],
   "source": [
    "print(youtube_data.head())"
   ]
  },
  {
   "cell_type": "markdown",
   "id": "5207dc46",
   "metadata": {},
   "source": [
    "### 8. Find the number of videos published each month and arrange the months in a decreasing order based on the video count. "
   ]
  },
  {
   "cell_type": "code",
   "execution_count": 48,
   "id": "4b343e1c",
   "metadata": {},
   "outputs": [
    {
     "data": {
      "text/plain": [
       "Sep    4854\n",
       "Oct    4976\n",
       "Nov    4821\n",
       "May    2073\n",
       "Mar    2248\n",
       "Jun    2305\n",
       "Jul    2331\n",
       "Jan    2099\n",
       "Feb    2125\n",
       "Dec    3063\n",
       "Aug    4250\n",
       "Apr    2119\n",
       "Name: published_month, dtype: int64"
      ]
     },
     "execution_count": 48,
     "metadata": {},
     "output_type": "execute_result"
    }
   ],
   "source": [
    "# Count the number of videos published each month\n",
    "video_count_by_month = youtube_data['published_month'].value_counts().sort_index(ascending=False)\n",
    "video_count_by_month"
   ]
  },
  {
   "cell_type": "markdown",
   "id": "91df05d0",
   "metadata": {},
   "source": [
    "### 9. Find the count of unique video_id, channel_id and channel_title"
   ]
  },
  {
   "cell_type": "code",
   "execution_count": 50,
   "id": "a7a6f9c4",
   "metadata": {},
   "outputs": [],
   "source": [
    "# Count of unique video_id\n",
    "unique_video_id_count = youtube_data['video_id'].nunique()"
   ]
  },
  {
   "cell_type": "code",
   "execution_count": 51,
   "id": "e3ef42ff",
   "metadata": {},
   "outputs": [],
   "source": [
    "# Count of unique channel_id\n",
    "unique_channel_id_count = youtube_data['channel_id'].nunique()"
   ]
  },
  {
   "cell_type": "code",
   "execution_count": 52,
   "id": "2e5f7b19",
   "metadata": {},
   "outputs": [],
   "source": [
    "# Count of unique channel_title\n",
    "unique_channel_title_count = youtube_data['channel_title'].nunique()"
   ]
  },
  {
   "cell_type": "code",
   "execution_count": 53,
   "id": "bd239e0c",
   "metadata": {},
   "outputs": [
    {
     "name": "stdout",
     "output_type": "stream",
     "text": [
      "Count of Unique Video IDs: 37264\n",
      "Count of Unique Channel IDs: 10891\n",
      "Count of Unique Channel Titles: 10813\n"
     ]
    }
   ],
   "source": [
    "# Display the counts\n",
    "print(\"Count of Unique Video IDs:\", unique_video_id_count)\n",
    "print(\"Count of Unique Channel IDs:\", unique_channel_id_count)\n",
    "print(\"Count of Unique Channel Titles:\", unique_channel_title_count)"
   ]
  },
  {
   "cell_type": "markdown",
   "id": "1c692788",
   "metadata": {},
   "source": [
    "### 10. Find the top10 channel names having the highest number of videos in the dataset and the bottom10 having lowest number of videos. "
   ]
  },
  {
   "cell_type": "code",
   "execution_count": 56,
   "id": "3525f704",
   "metadata": {},
   "outputs": [
    {
     "data": {
      "text/html": [
       "<div>\n",
       "<style scoped>\n",
       "    .dataframe tbody tr th:only-of-type {\n",
       "        vertical-align: middle;\n",
       "    }\n",
       "\n",
       "    .dataframe tbody tr th {\n",
       "        vertical-align: top;\n",
       "    }\n",
       "\n",
       "    .dataframe thead th {\n",
       "        text-align: right;\n",
       "    }\n",
       "</style>\n",
       "<table border=\"1\" class=\"dataframe\">\n",
       "  <thead>\n",
       "    <tr style=\"text-align: right;\">\n",
       "      <th></th>\n",
       "      <th>video_id</th>\n",
       "      <th>title</th>\n",
       "      <th>channel_id</th>\n",
       "      <th>channel_title</th>\n",
       "      <th>published_at</th>\n",
       "      <th>view_count</th>\n",
       "      <th>likes</th>\n",
       "      <th>dislikes</th>\n",
       "      <th>comment_count</th>\n",
       "      <th>tags</th>\n",
       "      <th>description</th>\n",
       "      <th>comments</th>\n",
       "      <th>published_month</th>\n",
       "    </tr>\n",
       "  </thead>\n",
       "  <tbody>\n",
       "    <tr>\n",
       "      <th>0</th>\n",
       "      <td>--0bCF-iK2E</td>\n",
       "      <td>Jadon Sancho  Magical Skills &amp; Goals</td>\n",
       "      <td>UC6UL29enLNe4mqwTfAyeNuw</td>\n",
       "      <td>Bundesliga</td>\n",
       "      <td>2021-07-01 10:00:00</td>\n",
       "      <td>1048888</td>\n",
       "      <td>19515</td>\n",
       "      <td>226</td>\n",
       "      <td>1319</td>\n",
       "      <td>football soccer ftbol alemn Bundesliga season ...</td>\n",
       "      <td>Enjoy the best skills and goals from Jadon San...</td>\n",
       "      <td>Respect to Dortmund fans,must be sad losing hi...</td>\n",
       "      <td>Jul</td>\n",
       "    </tr>\n",
       "    <tr>\n",
       "      <th>1</th>\n",
       "      <td>--14w5SOEUs</td>\n",
       "      <td>Migos - Avalanche (Official Video)</td>\n",
       "      <td>UCGIelM2Dj3zza3xyV3pL3WQ</td>\n",
       "      <td>MigosVEVO</td>\n",
       "      <td>2021-06-10 16:00:00</td>\n",
       "      <td>15352638</td>\n",
       "      <td>359277</td>\n",
       "      <td>7479</td>\n",
       "      <td>18729</td>\n",
       "      <td>Migos Avalanche Quality Control Music/Motown R...</td>\n",
       "      <td>Watch the the official video for Migos - \"Aval...</td>\n",
       "      <td>Migos just makes me want to live my live to th...</td>\n",
       "      <td>Jun</td>\n",
       "    </tr>\n",
       "    <tr>\n",
       "      <th>2</th>\n",
       "      <td>--40TEbZ9Is</td>\n",
       "      <td>Supporting Actress in a Comedy: 73rd Emmys</td>\n",
       "      <td>UClBKH8yZRcM4AsRjDVEdjMg</td>\n",
       "      <td>Television Academy</td>\n",
       "      <td>2021-09-20 01:03:32</td>\n",
       "      <td>925281</td>\n",
       "      <td>11212</td>\n",
       "      <td>401</td>\n",
       "      <td>831</td>\n",
       "      <td></td>\n",
       "      <td>Hannah Waddingham wins the Emmy for Supporting...</td>\n",
       "      <td>Hannah's energy bursts through any screen. Wel...</td>\n",
       "      <td>Sep</td>\n",
       "    </tr>\n",
       "    <tr>\n",
       "      <th>3</th>\n",
       "      <td>--4tfbSyYDE</td>\n",
       "      <td>JO1'YOUNG (JO1 ver.)' PERFORMANCE VIDEO</td>\n",
       "      <td>UCsmXiDP8S40uBeJYxvyulmA</td>\n",
       "      <td>JO1</td>\n",
       "      <td>2021-03-03 10:00:17</td>\n",
       "      <td>2641597</td>\n",
       "      <td>39131</td>\n",
       "      <td>441</td>\n",
       "      <td>3745</td>\n",
       "      <td>PRODUCE101JAPAN              JO1   TheSTAR STA...</td>\n",
       "      <td>JO1'YOUNG (JO1 ver.)' PERFORMANCE VIDEO\\n\\n---...</td>\n",
       "      <td>youngVer&gt;&lt;  REN is really PERFECT. It's not ju...</td>\n",
       "      <td>Mar</td>\n",
       "    </tr>\n",
       "    <tr>\n",
       "      <th>4</th>\n",
       "      <td>--DKkzWVh-E</td>\n",
       "      <td>Why Retaining Walls Collapse</td>\n",
       "      <td>UCMOqf8ab-42UUQIdVoKwjlQ</td>\n",
       "      <td>Practical Engineering</td>\n",
       "      <td>2021-12-07 13:00:00</td>\n",
       "      <td>715724</td>\n",
       "      <td>32887</td>\n",
       "      <td>367</td>\n",
       "      <td>1067</td>\n",
       "      <td>retaining wall New Jersey highway Direct Conne...</td>\n",
       "      <td>One of the most important (and innocuous) part...</td>\n",
       "      <td>Keep up with all my projects here: https://pr...</td>\n",
       "      <td>Dec</td>\n",
       "    </tr>\n",
       "    <tr>\n",
       "      <th>5</th>\n",
       "      <td>--FmExEAsM8</td>\n",
       "      <td>IVE  'ELEVEN' MV</td>\n",
       "      <td>UCYDmx2Sfpnaxg488yBpZIGg</td>\n",
       "      <td>starshipTV</td>\n",
       "      <td>2021-12-01 09:00:03</td>\n",
       "      <td>36124750</td>\n",
       "      <td>965069</td>\n",
       "      <td>16618</td>\n",
       "      <td>59657</td>\n",
       "      <td>Kpop girl group 1theK Starshiptv starship   MV...</td>\n",
       "      <td>IVE Twitter\\n: https://twitter.com/IVEstarship...</td>\n",
       "      <td>omg !! they are so young and......pretty !!!! ...</td>\n",
       "      <td>Dec</td>\n",
       "    </tr>\n",
       "    <tr>\n",
       "      <th>6</th>\n",
       "      <td>--tbUe0JRc8</td>\n",
       "      <td>TEST COMPLET du Google Pixel 6 Pro : Une EXPRI...</td>\n",
       "      <td>UCGjKSSIpN7aYQluu04kPrsA</td>\n",
       "      <td>Brandon Le Proktor</td>\n",
       "      <td>2021-10-25 16:00:00</td>\n",
       "      <td>93337</td>\n",
       "      <td>5595</td>\n",
       "      <td>103</td>\n",
       "      <td>464</td>\n",
       "      <td>brandon le proktor google pixel 6 google pixel...</td>\n",
       "      <td>Voici le Test du Google Pixel 6 Pro, le meille...</td>\n",
       "      <td>Salut les amis ! Encore une semaine folle en t...</td>\n",
       "      <td>Oct</td>\n",
       "    </tr>\n",
       "    <tr>\n",
       "      <th>7</th>\n",
       "      <td>-024Swollbc</td>\n",
       "      <td>We sold my bike for charity! Find out who got ...</td>\n",
       "      <td>UCOpP5PqrzODWpFU961acUbg</td>\n",
       "      <td>Berm Peak Express</td>\n",
       "      <td>2021-03-03 15:00:00</td>\n",
       "      <td>271736</td>\n",
       "      <td>16622</td>\n",
       "      <td>90</td>\n",
       "      <td>743</td>\n",
       "      <td>do it yourself diy tools home backyard mountai...</td>\n",
       "      <td>Today we actually send the P7 off to its new h...</td>\n",
       "      <td>Me: wait its not Friday\\n\\nSeth: pulled a snea...</td>\n",
       "      <td>Mar</td>\n",
       "    </tr>\n",
       "    <tr>\n",
       "      <th>8</th>\n",
       "      <td>-0PZSxZuAXQ</td>\n",
       "      <td>The Breakfast Club Reacts to Kanye West's \"DON...</td>\n",
       "      <td>UChi08h4577eFsNXGd3sxYhw</td>\n",
       "      <td>Breakfast Club Power 105.1 FM</td>\n",
       "      <td>2021-08-06 12:10:25</td>\n",
       "      <td>535044</td>\n",
       "      <td>9207</td>\n",
       "      <td>384</td>\n",
       "      <td>1900</td>\n",
       "      <td>the breakfast club breakfast club power1051 ce...</td>\n",
       "      <td>Subscribe NOW to The Breakfast Club: http://ih...</td>\n",
       "      <td>No one can create excitement like Kanye. Not e...</td>\n",
       "      <td>Aug</td>\n",
       "    </tr>\n",
       "    <tr>\n",
       "      <th>9</th>\n",
       "      <td>-0QSEZIqVWc</td>\n",
       "      <td>How To Get *EVERY STAND* In AUT (A Universal T...</td>\n",
       "      <td>UCKB0Q6UkQ1US3-DSoOteU1g</td>\n",
       "      <td>VarietyJay</td>\n",
       "      <td>2021-08-31 04:46:35</td>\n",
       "      <td>598045</td>\n",
       "      <td>9431</td>\n",
       "      <td>318</td>\n",
       "      <td>2208</td>\n",
       "      <td>a universal time sans a universal time roblox ...</td>\n",
       "      <td>This is how to get a Stand in A Universal Time...</td>\n",
       "      <td>Are you guys enjoying the new AUT release?\\nSa...</td>\n",
       "      <td>Aug</td>\n",
       "    </tr>\n",
       "  </tbody>\n",
       "</table>\n",
       "</div>"
      ],
      "text/plain": [
       "      video_id                                              title  \\\n",
       "0  --0bCF-iK2E               Jadon Sancho  Magical Skills & Goals   \n",
       "1  --14w5SOEUs                 Migos - Avalanche (Official Video)   \n",
       "2  --40TEbZ9Is         Supporting Actress in a Comedy: 73rd Emmys   \n",
       "3  --4tfbSyYDE            JO1'YOUNG (JO1 ver.)' PERFORMANCE VIDEO   \n",
       "4  --DKkzWVh-E                       Why Retaining Walls Collapse   \n",
       "5  --FmExEAsM8                                   IVE  'ELEVEN' MV   \n",
       "6  --tbUe0JRc8  TEST COMPLET du Google Pixel 6 Pro : Une EXPRI...   \n",
       "7  -024Swollbc  We sold my bike for charity! Find out who got ...   \n",
       "8  -0PZSxZuAXQ  The Breakfast Club Reacts to Kanye West's \"DON...   \n",
       "9  -0QSEZIqVWc  How To Get *EVERY STAND* In AUT (A Universal T...   \n",
       "\n",
       "                 channel_id                  channel_title  \\\n",
       "0  UC6UL29enLNe4mqwTfAyeNuw                     Bundesliga   \n",
       "1  UCGIelM2Dj3zza3xyV3pL3WQ                      MigosVEVO   \n",
       "2  UClBKH8yZRcM4AsRjDVEdjMg             Television Academy   \n",
       "3  UCsmXiDP8S40uBeJYxvyulmA                            JO1   \n",
       "4  UCMOqf8ab-42UUQIdVoKwjlQ          Practical Engineering   \n",
       "5  UCYDmx2Sfpnaxg488yBpZIGg                     starshipTV   \n",
       "6  UCGjKSSIpN7aYQluu04kPrsA             Brandon Le Proktor   \n",
       "7  UCOpP5PqrzODWpFU961acUbg              Berm Peak Express   \n",
       "8  UChi08h4577eFsNXGd3sxYhw  Breakfast Club Power 105.1 FM   \n",
       "9  UCKB0Q6UkQ1US3-DSoOteU1g                     VarietyJay   \n",
       "\n",
       "         published_at  view_count   likes  dislikes  comment_count  \\\n",
       "0 2021-07-01 10:00:00     1048888   19515       226           1319   \n",
       "1 2021-06-10 16:00:00    15352638  359277      7479          18729   \n",
       "2 2021-09-20 01:03:32      925281   11212       401            831   \n",
       "3 2021-03-03 10:00:17     2641597   39131       441           3745   \n",
       "4 2021-12-07 13:00:00      715724   32887       367           1067   \n",
       "5 2021-12-01 09:00:03    36124750  965069     16618          59657   \n",
       "6 2021-10-25 16:00:00       93337    5595       103            464   \n",
       "7 2021-03-03 15:00:00      271736   16622        90            743   \n",
       "8 2021-08-06 12:10:25      535044    9207       384           1900   \n",
       "9 2021-08-31 04:46:35      598045    9431       318           2208   \n",
       "\n",
       "                                                tags  \\\n",
       "0  football soccer ftbol alemn Bundesliga season ...   \n",
       "1  Migos Avalanche Quality Control Music/Motown R...   \n",
       "2                                                      \n",
       "3  PRODUCE101JAPAN              JO1   TheSTAR STA...   \n",
       "4  retaining wall New Jersey highway Direct Conne...   \n",
       "5  Kpop girl group 1theK Starshiptv starship   MV...   \n",
       "6  brandon le proktor google pixel 6 google pixel...   \n",
       "7  do it yourself diy tools home backyard mountai...   \n",
       "8  the breakfast club breakfast club power1051 ce...   \n",
       "9  a universal time sans a universal time roblox ...   \n",
       "\n",
       "                                         description  \\\n",
       "0  Enjoy the best skills and goals from Jadon San...   \n",
       "1  Watch the the official video for Migos - \"Aval...   \n",
       "2  Hannah Waddingham wins the Emmy for Supporting...   \n",
       "3  JO1'YOUNG (JO1 ver.)' PERFORMANCE VIDEO\\n\\n---...   \n",
       "4  One of the most important (and innocuous) part...   \n",
       "5  IVE Twitter\\n: https://twitter.com/IVEstarship...   \n",
       "6  Voici le Test du Google Pixel 6 Pro, le meille...   \n",
       "7  Today we actually send the P7 off to its new h...   \n",
       "8  Subscribe NOW to The Breakfast Club: http://ih...   \n",
       "9  This is how to get a Stand in A Universal Time...   \n",
       "\n",
       "                                            comments published_month  \n",
       "0  Respect to Dortmund fans,must be sad losing hi...             Jul  \n",
       "1  Migos just makes me want to live my live to th...             Jun  \n",
       "2  Hannah's energy bursts through any screen. Wel...             Sep  \n",
       "3  youngVer><  REN is really PERFECT. It's not ju...             Mar  \n",
       "4   Keep up with all my projects here: https://pr...             Dec  \n",
       "5  omg !! they are so young and......pretty !!!! ...             Dec  \n",
       "6  Salut les amis ! Encore une semaine folle en t...             Oct  \n",
       "7  Me: wait its not Friday\\n\\nSeth: pulled a snea...             Mar  \n",
       "8  No one can create excitement like Kanye. Not e...             Aug  \n",
       "9  Are you guys enjoying the new AUT release?\\nSa...             Aug  "
      ]
     },
     "execution_count": 56,
     "metadata": {},
     "output_type": "execute_result"
    }
   ],
   "source": [
    "# Get the top 10 channels with the highest video counts\n",
    "top_10_channels = youtube_data.head(10)\n",
    "top_10_channels"
   ]
  },
  {
   "cell_type": "code",
   "execution_count": 58,
   "id": "7b0952f1",
   "metadata": {},
   "outputs": [
    {
     "data": {
      "text/html": [
       "<div>\n",
       "<style scoped>\n",
       "    .dataframe tbody tr th:only-of-type {\n",
       "        vertical-align: middle;\n",
       "    }\n",
       "\n",
       "    .dataframe tbody tr th {\n",
       "        vertical-align: top;\n",
       "    }\n",
       "\n",
       "    .dataframe thead th {\n",
       "        text-align: right;\n",
       "    }\n",
       "</style>\n",
       "<table border=\"1\" class=\"dataframe\">\n",
       "  <thead>\n",
       "    <tr style=\"text-align: right;\">\n",
       "      <th></th>\n",
       "      <th>video_id</th>\n",
       "      <th>title</th>\n",
       "      <th>channel_id</th>\n",
       "      <th>channel_title</th>\n",
       "      <th>published_at</th>\n",
       "      <th>view_count</th>\n",
       "      <th>likes</th>\n",
       "      <th>dislikes</th>\n",
       "      <th>comment_count</th>\n",
       "      <th>tags</th>\n",
       "      <th>description</th>\n",
       "      <th>comments</th>\n",
       "      <th>published_month</th>\n",
       "    </tr>\n",
       "  </thead>\n",
       "  <tbody>\n",
       "    <tr>\n",
       "      <th>37412</th>\n",
       "      <td>zyebS_kRoEc</td>\n",
       "      <td>Girl: \"I Play Guitar, Drums, and Bass\" #shorts</td>\n",
       "      <td>UCb5jIJ27Ds32YE6xX3eIO3g</td>\n",
       "      <td>Collaboration Nation</td>\n",
       "      <td>2021-08-18 18:18:39</td>\n",
       "      <td>9062103</td>\n",
       "      <td>682897</td>\n",
       "      <td>8035</td>\n",
       "      <td>6871</td>\n",
       "      <td>ome tv ometv omegle arctic monkeys arctic monk...</td>\n",
       "      <td>Welcome to my loop station/studio! Live loopin...</td>\n",
       "      <td>\"Do you like the Arctic Monkeys?\"\\n\\n\"No\"\\n\\n*...</td>\n",
       "      <td>Aug</td>\n",
       "    </tr>\n",
       "    <tr>\n",
       "      <th>37413</th>\n",
       "      <td>zyg837Y0PHA</td>\n",
       "      <td>Guessing Cheap vs Expensive Items Challenge ft...</td>\n",
       "      <td>UCDMHyBFbyJIKFiEwHty-u5Q</td>\n",
       "      <td>Aj Shabeel</td>\n",
       "      <td>2021-08-14 17:00:04</td>\n",
       "      <td>484793</td>\n",
       "      <td>21746</td>\n",
       "      <td>181</td>\n",
       "      <td>660</td>\n",
       "      <td>guessing cheap vs expensive items challenge gu...</td>\n",
       "      <td>I Challenged @Beta Squad  members @Chunkz  and...</td>\n",
       "      <td>AJ face when he clocks man just kept swiping t...</td>\n",
       "      <td>Aug</td>\n",
       "    </tr>\n",
       "    <tr>\n",
       "      <th>37414</th>\n",
       "      <td>zyrJ0j7x9-4</td>\n",
       "      <td>FlightReacts Plays NBA 2K21 For The FIRST Time...</td>\n",
       "      <td>UCoGIPQ7M4NWai7LRgRhaSOg</td>\n",
       "      <td>NotYourAverageFlight</td>\n",
       "      <td>2020-08-25 03:45:13</td>\n",
       "      <td>1405603</td>\n",
       "      <td>44261</td>\n",
       "      <td>1522</td>\n",
       "      <td>4419</td>\n",
       "      <td>NBA 2K20 2K NBA NBA 2K20 NBA 2K20 BEST BUILD B...</td>\n",
       "      <td>SMUSH THAT LIKE IF YOU ENJOYED! \\n\\nLETS GET 3...</td>\n",
       "      <td>I like how flight is being considerate of othe...</td>\n",
       "      <td>Aug</td>\n",
       "    </tr>\n",
       "    <tr>\n",
       "      <th>37415</th>\n",
       "      <td>zzEblS1lEvU</td>\n",
       "      <td>Highlights: Leeds United 1-0 Burnley | Bamford...</td>\n",
       "      <td>UCyQcJHDN4uYfPa1DHzKVSnw</td>\n",
       "      <td>Leeds United Official</td>\n",
       "      <td>2020-12-27 22:00:19</td>\n",
       "      <td>182440</td>\n",
       "      <td>2681</td>\n",
       "      <td>73</td>\n",
       "      <td>217</td>\n",
       "      <td>Leeds United LUFC LUTV marcelo bielsa highlights</td>\n",
       "      <td>Premier League highlights from our 1-0 win ove...</td>\n",
       "      <td>What A Striker This Patrick Bamford is!\\n10 go...</td>\n",
       "      <td>Dec</td>\n",
       "    </tr>\n",
       "    <tr>\n",
       "      <th>37416</th>\n",
       "      <td>zzYaFc8nzQM</td>\n",
       "      <td>The Champions: Season 4, Episode 4</td>\n",
       "      <td>UClvow1RFSyeh5CRwRB_m5sA</td>\n",
       "      <td>B/R Football</td>\n",
       "      <td>2020-11-30 22:00:10</td>\n",
       "      <td>1523729</td>\n",
       "      <td>70375</td>\n",
       "      <td>1317</td>\n",
       "      <td>2166</td>\n",
       "      <td>br football bleacher report soccer football go...</td>\n",
       "      <td>Dejan Lovren is convinced Virgil van Dijk is h...</td>\n",
       "      <td>The synchronized you never walk alone is actua...</td>\n",
       "      <td>Nov</td>\n",
       "    </tr>\n",
       "    <tr>\n",
       "      <th>37417</th>\n",
       "      <td>zzd4ydafGR0</td>\n",
       "      <td>Lil Tjay - Calling My Phone (feat. 6LACK) [Off...</td>\n",
       "      <td>UCEB4a5o_6KfjxHwNMnmj54Q</td>\n",
       "      <td>Lil Tjay</td>\n",
       "      <td>2021-02-12 05:03:49</td>\n",
       "      <td>120408275</td>\n",
       "      <td>2180780</td>\n",
       "      <td>35871</td>\n",
       "      <td>81360</td>\n",
       "      <td>Lil Tjay Steady Calling My Phone Calling My Ph...</td>\n",
       "      <td>Official video for \"Calling My Phone\" by Lil T...</td>\n",
       "      <td>'DESTINED 2 WIN' OUT NOW !! https://liltjay.ln...</td>\n",
       "      <td>Feb</td>\n",
       "    </tr>\n",
       "    <tr>\n",
       "      <th>37418</th>\n",
       "      <td>zziBybeSAtw</td>\n",
       "      <td>PELICANS at LAKERS | FULL GAME HIGHLIGHTS | Ja...</td>\n",
       "      <td>UCWJ2lWNubArHWmf3FIHbfcQ</td>\n",
       "      <td>NBA</td>\n",
       "      <td>2021-01-16 05:39:05</td>\n",
       "      <td>2841917</td>\n",
       "      <td>20759</td>\n",
       "      <td>1049</td>\n",
       "      <td>2624</td>\n",
       "      <td>NBA G League Basketball game-0022000187 Lakers...</td>\n",
       "      <td>PELICANS at LAKERS | FULL GAME HIGHLIGHTS | Ja...</td>\n",
       "      <td>Montrezl Harrell is going crazy with the rebou...</td>\n",
       "      <td>Jan</td>\n",
       "    </tr>\n",
       "    <tr>\n",
       "      <th>37419</th>\n",
       "      <td>zzk09ESX7e0</td>\n",
       "      <td>[MV]  (MAMAMOO) - Where Are We Now</td>\n",
       "      <td>UCuhAUMLzJxlP1W7mEk0_6lA</td>\n",
       "      <td>MAMAMOO</td>\n",
       "      <td>2021-06-02 09:00:10</td>\n",
       "      <td>13346678</td>\n",
       "      <td>720854</td>\n",
       "      <td>4426</td>\n",
       "      <td>90616</td>\n",
       "      <td>MAMAMOO  WAW  WAW MAMAMOO WAW Where Are We Now...</td>\n",
       "      <td>[MV]  (MAMAMOO) - Where Are We Now\\n\\nInstagra...</td>\n",
       "      <td>I honestly do not know why this song hit so ha...</td>\n",
       "      <td>Jun</td>\n",
       "    </tr>\n",
       "    <tr>\n",
       "      <th>37420</th>\n",
       "      <td>zzmQEb0Em5I</td>\n",
       "      <td>FELLIPE ESCUDERO- Master Podcast  #12</td>\n",
       "      <td>UC8NjnNWMsRqq11NYvHAQb1g</td>\n",
       "      <td>Master Podcast</td>\n",
       "      <td>2020-10-20 20:59:30</td>\n",
       "      <td>252057</td>\n",
       "      <td>19198</td>\n",
       "      <td>1234</td>\n",
       "      <td>1471</td>\n",
       "      <td>master masterpodcast lord lord vinheteiro z z ...</td>\n",
       "      <td>DOCTOR HAIR\\nhttps://www.thedoctorhair.com/?fb...</td>\n",
       "      <td>Foi um prazer passar esta tarde com vocs debat...</td>\n",
       "      <td>Oct</td>\n",
       "    </tr>\n",
       "    <tr>\n",
       "      <th>37421</th>\n",
       "      <td>zzxPZwaA-8w</td>\n",
       "      <td>Gareth Bale brace secures dramatic comeback on...</td>\n",
       "      <td>UCEg25rdRZXg32iwai6N6l0w</td>\n",
       "      <td>Tottenham Hotspur</td>\n",
       "      <td>2021-05-23 21:00:31</td>\n",
       "      <td>2252090</td>\n",
       "      <td>34063</td>\n",
       "      <td>868</td>\n",
       "      <td>2004</td>\n",
       "      <td>Spurs Tottenham Hotspur   Tottenham Leicester ...</td>\n",
       "      <td>Two minute highlights from Tottenham Hotspur's...</td>\n",
       "      <td>Thank you Kane for everything you have given t...</td>\n",
       "      <td>May</td>\n",
       "    </tr>\n",
       "  </tbody>\n",
       "</table>\n",
       "</div>"
      ],
      "text/plain": [
       "          video_id                                              title  \\\n",
       "37412  zyebS_kRoEc     Girl: \"I Play Guitar, Drums, and Bass\" #shorts   \n",
       "37413  zyg837Y0PHA  Guessing Cheap vs Expensive Items Challenge ft...   \n",
       "37414  zyrJ0j7x9-4  FlightReacts Plays NBA 2K21 For The FIRST Time...   \n",
       "37415  zzEblS1lEvU  Highlights: Leeds United 1-0 Burnley | Bamford...   \n",
       "37416  zzYaFc8nzQM                 The Champions: Season 4, Episode 4   \n",
       "37417  zzd4ydafGR0  Lil Tjay - Calling My Phone (feat. 6LACK) [Off...   \n",
       "37418  zziBybeSAtw  PELICANS at LAKERS | FULL GAME HIGHLIGHTS | Ja...   \n",
       "37419  zzk09ESX7e0                 [MV]  (MAMAMOO) - Where Are We Now   \n",
       "37420  zzmQEb0Em5I              FELLIPE ESCUDERO- Master Podcast  #12   \n",
       "37421  zzxPZwaA-8w  Gareth Bale brace secures dramatic comeback on...   \n",
       "\n",
       "                     channel_id          channel_title        published_at  \\\n",
       "37412  UCb5jIJ27Ds32YE6xX3eIO3g   Collaboration Nation 2021-08-18 18:18:39   \n",
       "37413  UCDMHyBFbyJIKFiEwHty-u5Q             Aj Shabeel 2021-08-14 17:00:04   \n",
       "37414  UCoGIPQ7M4NWai7LRgRhaSOg   NotYourAverageFlight 2020-08-25 03:45:13   \n",
       "37415  UCyQcJHDN4uYfPa1DHzKVSnw  Leeds United Official 2020-12-27 22:00:19   \n",
       "37416  UClvow1RFSyeh5CRwRB_m5sA           B/R Football 2020-11-30 22:00:10   \n",
       "37417  UCEB4a5o_6KfjxHwNMnmj54Q               Lil Tjay 2021-02-12 05:03:49   \n",
       "37418  UCWJ2lWNubArHWmf3FIHbfcQ                    NBA 2021-01-16 05:39:05   \n",
       "37419  UCuhAUMLzJxlP1W7mEk0_6lA                MAMAMOO 2021-06-02 09:00:10   \n",
       "37420  UC8NjnNWMsRqq11NYvHAQb1g         Master Podcast 2020-10-20 20:59:30   \n",
       "37421  UCEg25rdRZXg32iwai6N6l0w      Tottenham Hotspur 2021-05-23 21:00:31   \n",
       "\n",
       "       view_count    likes  dislikes  comment_count  \\\n",
       "37412     9062103   682897      8035           6871   \n",
       "37413      484793    21746       181            660   \n",
       "37414     1405603    44261      1522           4419   \n",
       "37415      182440     2681        73            217   \n",
       "37416     1523729    70375      1317           2166   \n",
       "37417   120408275  2180780     35871          81360   \n",
       "37418     2841917    20759      1049           2624   \n",
       "37419    13346678   720854      4426          90616   \n",
       "37420      252057    19198      1234           1471   \n",
       "37421     2252090    34063       868           2004   \n",
       "\n",
       "                                                    tags  \\\n",
       "37412  ome tv ometv omegle arctic monkeys arctic monk...   \n",
       "37413  guessing cheap vs expensive items challenge gu...   \n",
       "37414  NBA 2K20 2K NBA NBA 2K20 NBA 2K20 BEST BUILD B...   \n",
       "37415   Leeds United LUFC LUTV marcelo bielsa highlights   \n",
       "37416  br football bleacher report soccer football go...   \n",
       "37417  Lil Tjay Steady Calling My Phone Calling My Ph...   \n",
       "37418  NBA G League Basketball game-0022000187 Lakers...   \n",
       "37419  MAMAMOO  WAW  WAW MAMAMOO WAW Where Are We Now...   \n",
       "37420  master masterpodcast lord lord vinheteiro z z ...   \n",
       "37421  Spurs Tottenham Hotspur   Tottenham Leicester ...   \n",
       "\n",
       "                                             description  \\\n",
       "37412  Welcome to my loop station/studio! Live loopin...   \n",
       "37413  I Challenged @Beta Squad  members @Chunkz  and...   \n",
       "37414  SMUSH THAT LIKE IF YOU ENJOYED! \\n\\nLETS GET 3...   \n",
       "37415  Premier League highlights from our 1-0 win ove...   \n",
       "37416  Dejan Lovren is convinced Virgil van Dijk is h...   \n",
       "37417  Official video for \"Calling My Phone\" by Lil T...   \n",
       "37418  PELICANS at LAKERS | FULL GAME HIGHLIGHTS | Ja...   \n",
       "37419  [MV]  (MAMAMOO) - Where Are We Now\\n\\nInstagra...   \n",
       "37420  DOCTOR HAIR\\nhttps://www.thedoctorhair.com/?fb...   \n",
       "37421  Two minute highlights from Tottenham Hotspur's...   \n",
       "\n",
       "                                                comments published_month  \n",
       "37412  \"Do you like the Arctic Monkeys?\"\\n\\n\"No\"\\n\\n*...             Aug  \n",
       "37413  AJ face when he clocks man just kept swiping t...             Aug  \n",
       "37414  I like how flight is being considerate of othe...             Aug  \n",
       "37415  What A Striker This Patrick Bamford is!\\n10 go...             Dec  \n",
       "37416  The synchronized you never walk alone is actua...             Nov  \n",
       "37417  'DESTINED 2 WIN' OUT NOW !! https://liltjay.ln...             Feb  \n",
       "37418  Montrezl Harrell is going crazy with the rebou...             Jan  \n",
       "37419  I honestly do not know why this song hit so ha...             Jun  \n",
       "37420  Foi um prazer passar esta tarde com vocs debat...             Oct  \n",
       "37421  Thank you Kane for everything you have given t...             May  "
      ]
     },
     "execution_count": 58,
     "metadata": {},
     "output_type": "execute_result"
    }
   ],
   "source": [
    "# Get the bottom 10 channels with the lowest video counts\n",
    "bottom_10_channels = youtube_data.tail(10)\n",
    "bottom_10_channels"
   ]
  },
  {
   "cell_type": "markdown",
   "id": "54f2025c",
   "metadata": {},
   "source": [
    "### 11. Find the title of the video which has the maximum number of likes and the title of the video having minimum likes and write your inferences."
   ]
  },
  {
   "cell_type": "code",
   "execution_count": 59,
   "id": "6a1a6a90",
   "metadata": {},
   "outputs": [],
   "source": [
    "# Find the index of the video with the maximum number of likes\n",
    "max_likes_index = youtube_data['likes'].idxmax()"
   ]
  },
  {
   "cell_type": "code",
   "execution_count": 60,
   "id": "2b30ba3a",
   "metadata": {},
   "outputs": [],
   "source": [
    "# Find the index of the video with the minimum number of likes\n",
    "min_likes_index = youtube_data['likes'].idxmin()"
   ]
  },
  {
   "cell_type": "code",
   "execution_count": 61,
   "id": "eb0853b2",
   "metadata": {},
   "outputs": [],
   "source": [
    "# Get the title of the video with the maximum number of likes\n",
    "video_title_max_likes = youtube_data.loc[max_likes_index, 'title']"
   ]
  },
  {
   "cell_type": "code",
   "execution_count": 62,
   "id": "6fc6eabc",
   "metadata": {},
   "outputs": [],
   "source": [
    "# Get the title of the video with the minimum number of likes\n",
    "video_title_min_likes = youtube_data.loc[min_likes_index, 'title']"
   ]
  },
  {
   "cell_type": "code",
   "execution_count": 63,
   "id": "b2f6306c",
   "metadata": {},
   "outputs": [
    {
     "name": "stdout",
     "output_type": "stream",
     "text": [
      "Title of Video with Maximum Likes: BTS () 'Dynamite' Official MV\n",
      "Title of Video with Minimum Likes: Leading the Charge | Circle K\n"
     ]
    }
   ],
   "source": [
    "# Display the results\n",
    "print(\"Title of Video with Maximum Likes:\", video_title_max_likes)\n",
    "print(\"Title of Video with Minimum Likes:\", video_title_min_likes)"
   ]
  },
  {
   "cell_type": "markdown",
   "id": "26a13b39",
   "metadata": {},
   "source": [
    "### 12. Find the title of the video which has the maximum number of dislikes and the title of the video having minimum dislikes and write your inferences."
   ]
  },
  {
   "cell_type": "code",
   "execution_count": 67,
   "id": "f0227f5a",
   "metadata": {},
   "outputs": [],
   "source": [
    "# Find the title of the video with the maximum number of dislikes\n",
    "video_title_max_dislikes = youtube_data.loc[youtube_data['dislikes'].idxmax(), 'title']\n"
   ]
  },
  {
   "cell_type": "code",
   "execution_count": 68,
   "id": "991d3b29",
   "metadata": {},
   "outputs": [],
   "source": [
    "# Find the title of the video with the minimum number of dislikes\n",
    "video_title_min_dislikes = youtube_data.loc[youtube_data['dislikes'].idxmin(), 'title']\n"
   ]
  },
  {
   "cell_type": "code",
   "execution_count": 69,
   "id": "3968ece0",
   "metadata": {},
   "outputs": [
    {
     "name": "stdout",
     "output_type": "stream",
     "text": [
      "Title of Video with Maximum Dislikes: Cuties | Official Trailer | Netflix\n",
      "Title of Video with Minimum Dislikes: Tims For Good: A Taste Of The Familiar\n"
     ]
    }
   ],
   "source": [
    "# Display the results\n",
    "print(\"Title of Video with Maximum Dislikes:\", video_title_max_dislikes)\n",
    "print(\"Title of Video with Minimum Dislikes:\", video_title_min_dislikes)"
   ]
  },
  {
   "cell_type": "markdown",
   "id": "015bdaf4",
   "metadata": {},
   "source": [
    "### 13. Does the number of views have any effect on how many people disliked the video? Support your answer with a metric and a plot."
   ]
  },
  {
   "cell_type": "markdown",
   "id": "ddb0829b",
   "metadata": {},
   "source": [
    "To analyze the relationship between the number of views and the number of dislikes in a video, We can calculate the correlation coefficient between these two variables and create a scatter plot to visualize the pattern. The correlation coefficient will help us understand whether there is any linear relationship between the two variables."
   ]
  },
  {
   "cell_type": "code",
   "execution_count": 71,
   "id": "977c9adc",
   "metadata": {},
   "outputs": [],
   "source": [
    "# Calculate the correlation coefficient between 'views' and 'dislikes'\n",
    "correlation_coefficient = youtube_data['view_count'].corr(youtube_data['dislikes'])\n"
   ]
  },
  {
   "cell_type": "code",
   "execution_count": 74,
   "id": "016cdd75",
   "metadata": {},
   "outputs": [
    {
     "data": {
      "image/png": "[encoded data removed]",
      "text/plain": [
       "<Figure size 720x432 with 1 Axes>"
      ]
     },
     "metadata": {
      "needs_background": "light"
     },
     "output_type": "display_data"
    }
   ],
   "source": [
    "# Create a scatter plot\n",
    "plt.figure(figsize=(10, 6))\n",
    "plt.scatter(youtube_data['view_count'], youtube_data['dislikes'], alpha=0.5)\n",
    "plt.title('Scatter Plot: Views vs Dislikes')\n",
    "plt.xlabel('Number of Views')\n",
    "plt.ylabel('Number of Dislikes')\n",
    "plt.grid(True)\n",
    "plt.show()"
   ]
  },
  {
   "cell_type": "code",
   "execution_count": 75,
   "id": "5b074381",
   "metadata": {},
   "outputs": [
    {
     "name": "stdout",
     "output_type": "stream",
     "text": [
      "Correlation Coefficient between Views and Dislikes: 0.6845758297072607\n"
     ]
    }
   ],
   "source": [
    "# Display the correlation coefficient\n",
    "print(\"Correlation Coefficient between Views and Dislikes:\", correlation_coefficient)"
   ]
  },
  {
   "cell_type": "markdown",
   "id": "eb216e08",
   "metadata": {},
   "source": [
    "No, the number of views does not have any effect on how many people disliked the video"
   ]
  },
  {
   "cell_type": "markdown",
   "id": "1649adbc",
   "metadata": {},
   "source": [
    "### 14. Display all the information about the videos that were published in January, and mention the count of videos that were published in January."
   ]
  },
  {
   "cell_type": "code",
   "execution_count": 76,
   "id": "c4470fd5",
   "metadata": {},
   "outputs": [],
   "source": [
    "# Filter videos published in January\n",
    "videos_january = youtube_data[youtube_data['published_month'] == 'Jan']\n"
   ]
  },
  {
   "cell_type": "code",
   "execution_count": 77,
   "id": "e1e1d4b8",
   "metadata": {},
   "outputs": [
    {
     "name": "stdout",
     "output_type": "stream",
     "text": [
      "          video_id                                              title  \\\n",
      "27     -2Gwm7QfBnE                                    Q&A With Naisha   \n",
      "48     -4sfXSHSxzA           SURPRISING BRENT WITH HIS TIKTOK CRUSH!!   \n",
      "95     -AJD1Fc5rpQ  WE ARE HAVING A BABY! | finding out i'm pregna...   \n",
      "103    -AuJiwjsmWk              Do Ugly Foods Taste Worse? Taste Test   \n",
      "182    -JhqO2KWr5U                                   Schlatt gets fit   \n",
      "...            ...                                                ...   \n",
      "37300  zmzFL5bG-jc  DEVINE MON PERSONNAGE AVANT AKINATOR ! (c'est ...   \n",
      "37329  zpzjex7qwrA  Lampard Sacked Within Days Rorys Misery | Chel...   \n",
      "37345  zqyv-B6mnBM                 Lil Wayne - Ain't Got Time (Audio)   \n",
      "37383  zwfu1-24T7Q  PRADA Cup Day 1 | Full Race Replay | PRADA Cup...   \n",
      "37418  zziBybeSAtw  PELICANS at LAKERS | FULL GAME HIGHLIGHTS | Ja...   \n",
      "\n",
      "                     channel_id       channel_title        published_at  \\\n",
      "27     UCYwNMbogQFzMccPSuy-pPWg           MianTwins 2021-01-21 00:05:47   \n",
      "48     UCPpATKqmMV-CNRNWYaDUwiA        Alexa Rivera 2021-01-16 21:40:04   \n",
      "95     UCVsTboAhpnuL6j-tDePvNwQ      Tess Christine 2021-01-03 21:53:48   \n",
      "103    UCzpCc5n9hqiVC7HhPwcIKEg  Good Mythical MORE 2021-01-19 11:00:01   \n",
      "182    UCWZp4y1jqBuvLtiyxSs_ZBw             Big guy 2021-01-24 22:50:57   \n",
      "...                         ...                 ...                 ...   \n",
      "37300  UCIlr3byh6wmXgcPx_Tm9Ocw             Piwerre 2021-01-16 16:12:19   \n",
      "37329  UCkD-ZOixI0a9FjIExDsHsbg        The Kick Off 2021-01-03 20:13:49   \n",
      "37345  UCO9zJy7HWrIS3ojB4Lr7Yqw           Lil Wayne 2021-01-21 05:00:10   \n",
      "37383  UCo15ZYO_XDRU9LI30OPtxAg       America's Cup 2021-01-15 04:07:55   \n",
      "37418  UCWJ2lWNubArHWmf3FIHbfcQ                 NBA 2021-01-16 05:39:05   \n",
      "\n",
      "       view_count   likes  dislikes  comment_count  \\\n",
      "27         872372   38626       239            621   \n",
      "48        6504784  262477      5779           7907   \n",
      "95         533084   38965       119           1650   \n",
      "103       1057077   22526       531            773   \n",
      "182       1724965  119431       325           1578   \n",
      "...           ...     ...       ...            ...   \n",
      "37300      670357   54462       832           1249   \n",
      "37329      428646   12060       296           1505   \n",
      "37345     2238244   58925      2365           5539   \n",
      "37383      317382    2008        83            192   \n",
      "37418     2841917   20759      1049           2624   \n",
      "\n",
      "                                                    tags  \\\n",
      "27                                                         \n",
      "48                                                         \n",
      "95                                                         \n",
      "103    gmm good mythical morning rhettandlink rhett a...   \n",
      "182    jschlatt big guy jschlatt highlights schlatt j...   \n",
      "...                                                  ...   \n",
      "37300  Piwerre frere de michou crouton among us devin...   \n",
      "37329  Premier league Chelsea chelsea 1-3 Man City Ch...   \n",
      "37345  lil wayne weezy weezy wednesday wayne carter y...   \n",
      "37383  America's Cup Americas Cup AC36 AC75 Presented...   \n",
      "37418  NBA G League Basketball game-0022000187 Lakers...   \n",
      "\n",
      "                                             description  \\\n",
      "27     Hey Guys!!! this has been the most requested v...   \n",
      "48     He had no idea! Thank you guys so much for wat...   \n",
      "95     I am so happy to tell you that I am pregnant!!...   \n",
      "103    Today, we're doing a blind taste test to deter...   \n",
      "182                    #jschlatt #schlatt #bigguy #short   \n",
      "...                                                  ...   \n",
      "37300   Discord Piwerre : https://discord.gg/QBduPgAA...   \n",
      "37329  The Kick Off watched Manchester City destroy C...   \n",
      "37345  Official audio for Lil Wayne \"Ain't Got Time\",...   \n",
      "37383  The opening day of the PRADA Cup in Auckland, ...   \n",
      "37418  PELICANS at LAKERS | FULL GAME HIGHLIGHTS | Ja...   \n",
      "\n",
      "                                                comments published_month  \n",
      "27     I feel like Nate and Aishas personality match ...             Jan  \n",
      "48     Thank you guys for watching and don't forget t...             Jan  \n",
      "95     Okay I needed a moment to collect my thoughts ...             Jan  \n",
      "103    \"there's nothing wrong with it being bent\"\\nI ...             Jan  \n",
      "182    Schlatt is single handedly wiping out all the ...             Jan  \n",
      "...                                                  ...             ...  \n",
      "37300  Mdr michou quand c'est pas ses tournage il fou...             Jan  \n",
      "37329  True Its like a fighter who Geordie But I thou...             Jan  \n",
      "37345  RIP Juice Wrld, wrote that on two cups, pour o...             Jan  \n",
      "37383  Incredible how these boats evolve in a short t...             Jan  \n",
      "37418  Montrezl Harrell is going crazy with the rebou...             Jan  \n",
      "\n",
      "[2099 rows x 13 columns]\n"
     ]
    }
   ],
   "source": [
    "# Display information about videos published in January\n",
    "print(videos_january)"
   ]
  },
  {
   "cell_type": "code",
   "execution_count": 78,
   "id": "a5331219",
   "metadata": {},
   "outputs": [
    {
     "name": "stdout",
     "output_type": "stream",
     "text": [
      "Count of Videos Published in January: 2099\n"
     ]
    }
   ],
   "source": [
    "# Count of videos published in January\n",
    "count_videos_january = len(videos_january)\n",
    "print(\"Count of Videos Published in January:\", count_videos_january)"
   ]
  },
  {
   "cell_type": "markdown",
   "id": "b37808b8",
   "metadata": {},
   "source": [
    "#                     THE END"
   ]
  }
 ],
 "metadata": {
  "kernelspec": {
   "display_name": "Python 3",
   "language": "python",
   "name": "python3"
  },
  "language_info": {
   "codemirror_mode": {
    "name": "ipython",
    "version": 3
   },
   "file_extension": ".py",
   "mimetype": "text/x-python",
   "name": "python",
   "nbconvert_exporter": "python",
   "pygments_lexer": "ipython3",
   "version": "3.8.8"
  },
  "varInspector": {
   "cols": {
    "lenName": 16,
    "lenType": 16,
    "lenVar": 40
   },
   "kernels_config": {
    "python": {
     "delete_cmd_postfix": "",
     "delete_cmd_prefix": "del ",
     "library": "var_list.py",
     "varRefreshCmd": "print(var_dic_list())"
    },
    "r": {
     "delete_cmd_postfix": ") ",
     "delete_cmd_prefix": "rm(",
     "library": "var_list.r",
     "varRefreshCmd": "cat(var_dic_list()) "
    }
   },
   "types_to_exclude": [
    "module",
    "function",
    "builtin_function_or_method",
    "instance",
    "_Feature"
   ],
   "window_display": false
  }
 },
 "nbformat": 4,
 "nbformat_minor": 5
}
